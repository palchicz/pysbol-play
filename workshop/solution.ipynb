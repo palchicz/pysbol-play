{
 "cells": [
  {
   "cell_type": "markdown",
   "metadata": {},
   "source": [
    "# Introduction\n",
    "\n",
    "1. Create an account on SynBioHub\n",
    "2. Make sure you've downloaded `parts.xml` and it is placed somewhere convenient on your computer.\n",
    "3. Make sure you've downloaded `results.txt` and it is placed somewhere convenient on your computer.\n",
    "4. Install SBOL library in language of choice"
   ]
  },
  {
   "cell_type": "markdown",
   "metadata": {},
   "source": [
    "# Getting a Device from an SBOL Compliant XML"
   ]
  },
  {
   "cell_type": "code",
   "execution_count": null,
   "metadata": {},
   "outputs": [],
   "source": [
    "from sbol import *\n",
    "\n",
    "# Set the default namespace (e.g. “http://my_namespace.org”)\n",
    "namespace = \"http://my_namespace.org\"\n",
    "setHomespace(namespace)\n",
    "\n",
    "# Create a new SBOL document\n",
    "doc = Document()\n",
    "\n",
    "# Load some generic parts from `parts.xml` into another Document\n",
    "generic_parts = Document('parts.xml')\n",
    "\n",
    "# Copy the parts from `parts.xml` into your document. \n",
    "# Be sure to specify the original namespace `http://examples.org`\n",
    "generic_parts.copy(\"http://examples.org\", doc)"
   ]
  },
  {
   "cell_type": "code",
   "execution_count": null,
   "metadata": {},
   "outputs": [],
   "source": [
    "for obj in doc:\n",
    "    print(obj)"
   ]
  },
  {
   "cell_type": "markdown",
   "metadata": {},
   "source": [
    "# Getting a Device from Synbiohub"
   ]
  },
  {
   "cell_type": "code",
   "execution_count": null,
   "metadata": {},
   "outputs": [],
   "source": [
    "# Start an interface to igem’s public part shop on SynBioHub. Located at `https://synbiohub.org/public/igem`\n",
    "partshop = PartShop('https://synbiohub.org/public/igem')\n",
    "\n",
    "# Search the part shop for parts from the iGEM interlab study using the search term `interlab`\n",
    "records = partshop.search('interlab')\n",
    "\n",
    "# Import the medium strength device into your document\n",
    "medium_device_uri = records[0].identity\n",
    "partshop.pull(medium_device_uri, doc)"
   ]
  },
  {
   "cell_type": "code",
   "execution_count": null,
   "metadata": {},
   "outputs": [],
   "source": [
    "for obj in doc:\n",
    "    print(obj)"
   ]
  },
  {
   "cell_type": "markdown",
   "metadata": {},
   "source": [
    "# Extracting ComponentDefinitions from a Pre-existing Device"
   ]
  },
  {
   "cell_type": "code",
   "execution_count": null,
   "metadata": {},
   "outputs": [],
   "source": [
    "# Extract the medium strength promoter `BBa_J23106` from your document.\n",
    "medium_strength_promoter = doc.componentDefinitions['BBa_J23106']\n",
    "\n",
    "# Extract the ribosomal binding site (rbs) `Q2` from your document.\n",
    "rbs = doc.componentDefinitions['Q2']\n",
    "\n",
    "# Extract the coding region (cds) `LuxR` from your document.\n",
    "cds = doc.componentDefinitions['LuxR']\n",
    "\n",
    "# Extract the terminator `ECK120010818` from your document.\n",
    "terminator = doc.componentDefinitions['ECK120010818']"
   ]
  },
  {
   "cell_type": "markdown",
   "metadata": {},
   "source": [
    "# Creating a New Device"
   ]
  },
  {
   "cell_type": "code",
   "execution_count": null,
   "metadata": {},
   "outputs": [],
   "source": [
    "# Create a new empty device named `my_device`\n",
    "my_device = doc.componentDefinitions.create('my_device')\n",
    "\n",
    "# Assemble the new device from the promoter, rbs, cds, and terminator from above.\n",
    "my_device.assemblePrimaryStructure(\n",
    "    [medium_strength_promoter, rbs, cds, terminator])\n",
    "\n",
    "# Set the role of the device with the Sequence Ontology term `gene`\n",
    "my_device.roles = SO_GENE\n",
    "\n",
    "# Compile the sequence for the new device\n",
    "my_device.compile()"
   ]
  },
  {
   "cell_type": "code",
   "execution_count": null,
   "metadata": {},
   "outputs": [],
   "source": [
    "for comp in my_device.getPrimaryStructure():\n",
    "    print(comp.displayId)"
   ]
  },
  {
   "cell_type": "markdown",
   "metadata": {},
   "source": [
    "# Managing a Design-Build-Test-Learn Workflow"
   ]
  },
  {
   "cell_type": "code",
   "execution_count": null,
   "metadata": {},
   "outputs": [],
   "source": [
    "# Create a new design in your document called `my_design`. \n",
    "design = doc.designs.create('my_design')\n",
    "\n",
    "# Set the structure of the design to `my_device` from above, and the function of the device to\n",
    "# `None` (not covered in this tutorial)\n",
    "design.structure = my_device\n",
    "design.function = None\n",
    "\n",
    "# Create three Activities [‘build`, `test`, `analysis`]\n",
    "build_workflow_step = Activity('build')\n",
    "test_workflow_step = Activity('test')\n",
    "analysis_workflow_step = Activity('analysis')\n",
    "\n",
    "# Create Plans for each Activity: set the`build` plan to `transformation`, the `test` plan\n",
    "# to `promoter_characterization`, and the `analysis` plan to `parameter_optimization`\n",
    "build_workflow_step.plan = Plan('transformation')\n",
    "test_workflow_step.plan = Plan('promoter_characterization')\n",
    "analysis_workflow_step.plan = Plan('parameter_optimization')\n",
    "\n",
    "# Temporarily disable auto-construction of URIs (For setting Agent URIs)\n",
    "setHomespace('')\n",
    "Config.setOption('sbol_compliant_uris', False)\n",
    "\n",
    "# Set Agents for each Activity: set the `build` agent to `mailto:jdoe@example.com`, the `test` agent\n",
    "# to `http://sys-bio.org/plate_reader_1`, and the `analysis` agent to `http://tellurium.analogmachine.org`\n",
    "build_workflow_step.agent = Agent('mailto:jdoe@example.com')\n",
    "test_workflow_step.agent = Agent('http://sys-bio.org/plate_reader_1')\n",
    "analysis_workflow_step.agent = Agent('http://tellurium.analogmachine.org')\n",
    "# Re-enable auto-construction of URIs\n",
    "setHomespace(namespace)\n",
    "Config.setOption('sbol_compliant_uris', True)\n",
    "\n",
    "# Add the three activities to your document.\n",
    "doc.addActivity([build_workflow_step, test_workflow_step, analysis_workflow_step])\n",
    "\n",
    "# Generate a build for your design out of your `build` activity. Name the result of the build step `transformed_cells`.\n",
    "transformed_cells = build_workflow_step.generateBuild('transformed_cells', design)\n",
    "\n",
    "# Generate a test for your build out of your `test` activity. Name the test `my_experiment`.\n",
    "experiment = test_workflow_step.generateTest('my_experiement', transformed_cells)\n",
    "\n",
    "# Generate an analysis of your test out of your `analysis` activity. Name the analysis `my_analysis`.\n",
    "analysis = analysis_workflow_step.generateAnalysis('my_analysis', experiment)"
   ]
  },
  {
   "cell_type": "code",
   "execution_count": null,
   "metadata": {},
   "outputs": [],
   "source": [
    "for obj in doc:\n",
    "    print(obj)"
   ]
  },
  {
   "cell_type": "markdown",
   "metadata": {},
   "source": [
    "# Uploading the Device Back to SynBioHub"
   ]
  },
  {
   "cell_type": "code",
   "execution_count": null,
   "metadata": {},
   "outputs": [],
   "source": [
    "# Connect to your account on SynBioHub\n",
    "import getpass\n",
    "email = 'zeke7781@yahoo.com'\n",
    "password = getpass.getpass()\n",
    "partshop.login(email, password)\n",
    "\n",
    "# Give your document a displayId, name, and description\n",
    "# (e.g. `my_device`, `my device`, `a newly characterized device`)\n",
    "doc.displayId = 'awesome_device'\n",
    "doc.name = \"awesome device\"\n",
    "doc.description = \"hey look, this is cool\"\n",
    "\n",
    "# Submit the document to the part shop\n",
    "partshop.submit(doc)"
   ]
  },
  {
   "cell_type": "code",
   "execution_count": null,
   "metadata": {},
   "outputs": [],
   "source": [
    "# Your document will now be available on your account at\n",
    "# `https://synbiohub.org/user/<USERNAME>/<DOC.DISPLAYID>/<DOC.DISPLAYID>_collection`\n",
    "\n",
    "# Attach the experimental results file `results.txt` to `my_experiment` from above\n",
    "attachment_path = 'results.txt'\n",
    "experiment_uri = 'https://synbiohub.org/user/zeke7781/awesome_device/Test_my_experiement/1'\n",
    "partshop.attachFile(experiment_uri, attachment_path)"
   ]
  },
  {
   "cell_type": "code",
   "execution_count": null,
   "metadata": {},
   "outputs": [],
   "source": []
  }
 ],
 "metadata": {
  "kernelspec": {
   "display_name": "Python 3",
   "language": "python",
   "name": "python3"
  },
  "language_info": {
   "codemirror_mode": {
    "name": "ipython",
    "version": 3
   },
   "file_extension": ".py",
   "mimetype": "text/x-python",
   "name": "python",
   "nbconvert_exporter": "python",
   "pygments_lexer": "ipython3",
   "version": "3.6.5"
  }
 },
 "nbformat": 4,
 "nbformat_minor": 2
}
