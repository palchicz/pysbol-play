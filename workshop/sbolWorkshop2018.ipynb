{
 "cells": [
  {
   "cell_type": "markdown",
   "metadata": {},
   "source": [
    "# Introduction\n",
    "\n",
    "1. Create an account on SynBioHub\n",
    "2. Make sure you've downloaded `parts.xml` and it is placed somewhere convenient on your computer.\n",
    "3. Make sure you've downloaded `results.txt` and it is placed somewhere convenient on your computer.\n",
    "4. Install SBOL library in language of choice"
   ]
  },
  {
   "cell_type": "markdown",
   "metadata": {},
   "source": [
    "# Getting a Device from an SBOL Compliant XML"
   ]
  },
  {
   "cell_type": "code",
   "execution_count": 2,
   "metadata": {},
   "outputs": [],
   "source": [
    "from sbol import *\n",
    "\n",
    "# Set the default namespace (e.g. “http://my_namespace.org”)\n",
    "\n",
    "# Create a new SBOL document\n",
    "\n",
    "# Load some generic parts from `parts.xml` into another Document\n",
    "\n",
    "# Copy the parts from `parts.xml` into your document. \n",
    "# Be sure to specify the original namespace `http://examples.org`"
   ]
  },
  {
   "cell_type": "markdown",
   "metadata": {},
   "source": [
    "# Getting a Device from Synbiohub"
   ]
  },
  {
   "cell_type": "code",
   "execution_count": 3,
   "metadata": {},
   "outputs": [],
   "source": [
    "# Start an interface to igem’s public part shop on SynBioHub. Located at `https://synbiohub.org/public/igem`\n",
    "\n",
    "# Search the part shop for parts from the iGEM interlab study using the search term `interlab`\n",
    "\n",
    "# Import the medium strength device into your document"
   ]
  },
  {
   "cell_type": "markdown",
   "metadata": {},
   "source": [
    "# Extracting ComponentDefinitions from a Pre-existing Device"
   ]
  },
  {
   "cell_type": "code",
   "execution_count": 4,
   "metadata": {},
   "outputs": [],
   "source": [
    "# Extract the medium strength promoter `BBa_J23106` from your document.\n",
    "\n",
    "# Extract the ribosomal binding site (rbs) `Q2` from your document. \n",
    "\n",
    "# Extract the coding region (cds) `LuxR` from your document.\n",
    "\n",
    "# Extract the terminator `ECK120010818` from your document."
   ]
  },
  {
   "cell_type": "markdown",
   "metadata": {},
   "source": [
    "# Creating a New Device"
   ]
  },
  {
   "cell_type": "code",
   "execution_count": 5,
   "metadata": {},
   "outputs": [],
   "source": [
    "# Create a new empty device named `my_device`\n",
    "\n",
    "# Assemble the new device from the promoter, rbs, cds, and terminator from above.\n",
    "\n",
    "# Set the role of the device with the Sequence Ontology term `gene`\n",
    "\n",
    "# Compile the sequence for the new device"
   ]
  },
  {
   "cell_type": "markdown",
   "metadata": {},
   "source": [
    "# Managing a Design-Build-Test-Learn Workflow"
   ]
  },
  {
   "cell_type": "code",
   "execution_count": 6,
   "metadata": {},
   "outputs": [],
   "source": [
    "# Create a new design in your document called `my_design`. \n",
    "\n",
    "# Set the structure of the design to `my_device` from above, and the function of the device to\n",
    "# `None` (not covered in this tutorial)\n",
    "\n",
    "# Create three Activities [‘build`, `test`, `analysis`]\n",
    "\n",
    "# Create Plans for each Activity: set the`build` plan to `transformation`, the `test` plan\n",
    "# to `promoter_characterization`, and the `analysis` plan to `parameter_optimization`\n",
    "\n",
    "# Temporarily disable auto-construction of URIs (For setting Agent URIs)\n",
    "\n",
    "# Set Agents for each Activity: set the `build` agent to `mailto:jdoe@example.com`, the `test` agent\n",
    "# to `http://sys-bio.org/plate_reader_1`, and the `analysis` agent to `http://tellurium.analogmachine.org`\n",
    "\n",
    "# Re-enable auto-construction of URIs\n",
    "\n",
    "# Add the three activities to your document.\n",
    "\n",
    "# Generate a build for your design out of your `build` activity. Name the result of the build step `transformed_cells`.\n",
    "\n",
    "# Generate a test for your build out of your `test` activity. Name the test `my_experiment`.\n",
    "\n",
    "# Generate an analysis of your test out of your `analysis` activity. Name the analysis `my_analysis`."
   ]
  },
  {
   "cell_type": "markdown",
   "metadata": {},
   "source": [
    "# Uploading the Device Back to SynBioHub"
   ]
  },
  {
   "cell_type": "code",
   "execution_count": 7,
   "metadata": {},
   "outputs": [],
   "source": [
    "# Connect to your account on SynBioHub\n",
    "\n",
    "# Give your document a displayId, name, and description\n",
    "# (e.g. `my_device`, `my device`, `a newly characterized device`)\n",
    "\n",
    "# Submit the document to the part shop"
   ]
  },
  {
   "cell_type": "code",
   "execution_count": 8,
   "metadata": {},
   "outputs": [],
   "source": [
    "# Your document will now be available on your account at\n",
    "# `https://synbiohub.org/user/<USERNAME>/<DOC.DISPLAYID>/<DOC.DISPLAYID>_collection`\n",
    "\n",
    "# Attach the experimental results file `results.txt` to `my_experiment` from above"
   ]
  }
 ],
 "metadata": {
  "kernelspec": {
   "display_name": "Python 3",
   "language": "python",
   "name": "python3"
  },
  "language_info": {
   "codemirror_mode": {
    "name": "ipython",
    "version": 3
   },
   "file_extension": ".py",
   "mimetype": "text/x-python",
   "name": "python",
   "nbconvert_exporter": "python",
   "pygments_lexer": "ipython3",
   "version": "3.6.5"
  }
 },
 "nbformat": 4,
 "nbformat_minor": 2
}
