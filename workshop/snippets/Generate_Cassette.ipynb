{
 "cells": [
  {
   "cell_type": "code",
   "execution_count": 1,
   "metadata": {},
   "outputs": [],
   "source": [
    "import sbol\n",
    "name_space = \"http://www.examples.org\"\n",
    "sbol.setHomespace(name_space)"
   ]
  },
  {
   "cell_type": "code",
   "execution_count": 4,
   "metadata": {},
   "outputs": [],
   "source": [
    "gene = sbol.ComponentDefinition(\"mfg\")\n",
    "promoter = sbol.ComponentDefinition(\"strong_promoter\")\n",
    "rbs = sbol.ComponentDefinition(\"weak_rbs\")\n",
    "cds = sbol.ComponentDefinition(\"mfg_cds\")\n",
    "terminator = sbol.ComponentDefinition(\"medium_terminator\")\n",
    "\n",
    "promoter.roles = sbol.SO_PROMOTER\n",
    "rbs.roles = sbol.SO_RBS\n",
    "cds.roles = sbol.SO_CDS\n",
    "terminator.roles = sbol.SO_TERMINATOR"
   ]
  },
  {
   "cell_type": "code",
   "execution_count": 5,
   "metadata": {},
   "outputs": [],
   "source": [
    "# Need to add everything to a document\n",
    "doc = sbol.Document()\n",
    "doc.addComponentDefinition(gene)\n",
    "doc.addComponentDefinition(promoter)\n",
    "doc.addComponentDefinition(rbs)\n",
    "doc.addComponentDefinition(cds)\n",
    "doc.addComponentDefinition(terminator)\n"
   ]
  },
  {
   "cell_type": "code",
   "execution_count": 6,
   "metadata": {},
   "outputs": [],
   "source": [
    "# Note: Not good to run this multiple times\n",
    "gene.assemblePrimaryStructure([ promoter, rbs, cds, terminator ])\n"
   ]
  },
  {
   "cell_type": "code",
   "execution_count": 7,
   "metadata": {},
   "outputs": [
    {
     "name": "stdout",
     "output_type": "stream",
     "text": [
      "strong_promoter_0\n",
      "weak_rbs_0\n",
      "mfg_cds_0\n",
      "medium_terminator_0\n"
     ]
    }
   ],
   "source": [
    "for comp in gene.components:\n",
    "    print(comp.displayId)"
   ]
  },
  {
   "cell_type": "code",
   "execution_count": 9,
   "metadata": {},
   "outputs": [],
   "source": [
    "promoter_seq = sbol.Sequence('strong_promoter', 'ggctgca')\n",
    "rbs_seq = sbol.Sequence('weak_rbs', 'aattatataaa')\n",
    "terminator_seq = sbol.Sequence('medium_terminator', 'attcga')\n",
    "cds_seq = sbol.Sequence('mfg_cds', \"atgtaa\")\n",
    "gene_seq = sbol.Sequence('mfg')"
   ]
  },
  {
   "cell_type": "code",
   "execution_count": 10,
   "metadata": {},
   "outputs": [],
   "source": [
    "promoter.sequence = promoter_seq\n",
    "cds.sequence = cds_seq\n",
    "rbs.sequence = rbs_seq\n",
    "terminator.sequence = terminator_seq\n",
    "gene.sequence = gene_seq"
   ]
  },
  {
   "cell_type": "code",
   "execution_count": 11,
   "metadata": {},
   "outputs": [
    {
     "data": {
      "text/plain": [
       "'ggctgcaaattatataaaatgtaaattcga'"
      ]
     },
     "execution_count": 11,
     "metadata": {},
     "output_type": "execute_result"
    }
   ],
   "source": [
    "gene_seq.assemble()"
   ]
  },
  {
   "cell_type": "code",
   "execution_count": 13,
   "metadata": {},
   "outputs": [
    {
     "name": "stdout",
     "output_type": "stream",
     "text": [
      "ggctgca\n",
      "aattatataaa\n",
      "atgtaa\n",
      "attcga\n",
      "ggctgcaaattatataaaatgtaaattcga\n"
     ]
    }
   ],
   "source": [
    "print(promoter_seq.elements)\n",
    "print(rbs_seq.elements)\n",
    "print(cds_seq.elements)\n",
    "print(terminator_seq.elements)\n",
    "print(gene_seq.elements)\n"
   ]
  },
  {
   "cell_type": "code",
   "execution_count": 14,
   "metadata": {},
   "outputs": [
    {
     "name": "stdout",
     "output_type": "stream",
     "text": [
      "Valid. \n"
     ]
    }
   ],
   "source": [
    "result = doc.write('gene_cassette.xml')\n",
    "print(result)"
   ]
  },
  {
   "cell_type": "code",
   "execution_count": null,
   "metadata": {},
   "outputs": [],
   "source": []
  }
 ],
 "metadata": {
  "kernelspec": {
   "display_name": "Python 3",
   "language": "python",
   "name": "python3"
  },
  "language_info": {
   "codemirror_mode": {
    "name": "ipython",
    "version": 3
   },
   "file_extension": ".py",
   "mimetype": "text/x-python",
   "name": "python",
   "nbconvert_exporter": "python",
   "pygments_lexer": "ipython3",
   "version": "3.6.5"
  }
 },
 "nbformat": 4,
 "nbformat_minor": 2
}
