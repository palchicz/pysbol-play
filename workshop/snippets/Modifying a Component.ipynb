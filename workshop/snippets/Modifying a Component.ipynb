{
 "cells": [
  {
   "cell_type": "code",
   "execution_count": 1,
   "metadata": {},
   "outputs": [],
   "source": [
    "import sbol\n",
    "name_space = \"http://www.examples.org\"\n",
    "sbol.setHomespace(name_space)\n",
    "\n"
   ]
  },
  {
   "cell_type": "code",
   "execution_count": 2,
   "metadata": {},
   "outputs": [
    {
     "name": "stdout",
     "output_type": "stream",
     "text": [
      "http://www.examples.org/Sequence/weak_rbs/1.0.0\n",
      "http://www.examples.org/Sequence/mfg_cds/1.0.0\n",
      "http://www.examples.org/Sequence/medium_terminator/1.0.0\n",
      "http://www.examples.org/Sequence/mfg/1.0.0\n",
      "http://www.examples.org/ComponentDefinition/mfg_cds/1.0.0\n",
      "http://www.examples.org/ComponentDefinition/strong_promoter/1.0.0\n",
      "http://www.examples.org/Sequence/strong_promoter/1.0.0\n",
      "http://www.examples.org/ComponentDefinition/medium_terminator/1.0.0\n",
      "http://www.examples.org/ComponentDefinition/mfg/1.0.0\n",
      "http://www.examples.org/ComponentDefinition/weak_rbs/1.0.0\n"
     ]
    }
   ],
   "source": [
    "cassett_doc = sbol.Document()\n",
    "cassett_doc.read(\"gene_cassette.xml\")\n",
    "for obj in cassett_doc:\n",
    "    print(obj)"
   ]
  },
  {
   "cell_type": "code",
   "execution_count": 3,
   "metadata": {},
   "outputs": [],
   "source": [
    "# Copy all top level objects to new document\n",
    "collection_doc = sbol.Document()\n",
    "for obj in cassett_doc:\n",
    "    if sbol.parseClassName(obj.type) == \"ComponentDefinition\":\n",
    "        cd = obj.cast(sbol.ComponentDefinition)\n",
    "        collection_doc.addComponentDefinition(cd)\n",
    "    else:\n",
    "        seq = obj.cast(sbol.Sequence)\n",
    "        collection_doc.addSequence(seq)\n"
   ]
  },
  {
   "cell_type": "code",
   "execution_count": 4,
   "metadata": {},
   "outputs": [
    {
     "name": "stdout",
     "output_type": "stream",
     "text": [
      "Attachment....................0\n",
      "Collection....................0\n",
      "CombinatorialDerivation.......0\n",
      "ComponentDefinition...........5\n",
      "Implementation................0\n",
      "Model.........................0\n",
      "ModuleDefinition..............0\n",
      "Sequence......................5\n",
      "Analysis......................0\n",
      "Build.........................0\n",
      "Design........................0\n",
      "SampleRoster..................0\n",
      "Test..........................0\n",
      "Activity......................0\n",
      "Agent.........................0\n",
      "Plan..........................0\n",
      "Annotation Objects............0\n",
      "---\n",
      "Total.........................10\n",
      "\n"
     ]
    }
   ],
   "source": [
    "print(collection_doc)"
   ]
  },
  {
   "cell_type": "code",
   "execution_count": 5,
   "metadata": {},
   "outputs": [],
   "source": [
    "original_gene = collection_doc.getComponentDefinition('http://www.examples.org/ComponentDefinition/mfg/1.0.0')\n",
    "cds = collection_doc.getComponentDefinition('http://www.examples.org/ComponentDefinition/mfg_cds/1.0.0')\n",
    "rbs = collection_doc.getComponentDefinition('http://www.examples.org/ComponentDefinition/weak_rbs/1.0.0')\n",
    "terminator = collection_doc.getComponentDefinition('http://www.examples.org/ComponentDefinition/medium_terminator/1.0.0')\n",
    "\n"
   ]
  },
  {
   "cell_type": "code",
   "execution_count": 6,
   "metadata": {},
   "outputs": [],
   "source": [
    "modified_gene = sbol.ComponentDefinition(\"modified_mfg\")\n",
    "\n",
    "med_promoter = sbol.ComponentDefinition(\"medium_promoter\")\n",
    "med_promoter.roles = sbol.SO_PROMOTER\n"
   ]
  },
  {
   "cell_type": "code",
   "execution_count": 7,
   "metadata": {},
   "outputs": [],
   "source": [
    "collection_doc.addComponentDefinition(modified_gene)\n",
    "collection_doc.addComponentDefinition(med_promoter)\n"
   ]
  },
  {
   "cell_type": "code",
   "execution_count": 8,
   "metadata": {},
   "outputs": [],
   "source": [
    "modified_gene.assemblePrimaryStructure([ med_promoter, rbs, cds, terminator ])"
   ]
  },
  {
   "cell_type": "code",
   "execution_count": 9,
   "metadata": {},
   "outputs": [
    {
     "name": "stdout",
     "output_type": "stream",
     "text": [
      "medium_promoter_0\n",
      "weak_rbs_0\n",
      "mfg_cds_0\n",
      "medium_terminator_0\n"
     ]
    }
   ],
   "source": [
    "for comp in modified_gene.components:\n",
    "    print(comp.displayId)"
   ]
  },
  {
   "cell_type": "code",
   "execution_count": 10,
   "metadata": {},
   "outputs": [],
   "source": [
    "med_promoter_seq = sbol.Sequence('medium_promoter', 'ttgagca')\n",
    "med_promoter.sequence = med_promoter_seq\n",
    "\n",
    "modified_gene_seq = sbol.Sequence(\"modified_mfg\")\n",
    "modified_gene.sequence = modified_gene_seq\n"
   ]
  },
  {
   "cell_type": "code",
   "execution_count": 11,
   "metadata": {},
   "outputs": [
    {
     "data": {
      "text/plain": [
       "'ttgagcaaattatataaaatgtaaattcga'"
      ]
     },
     "execution_count": 11,
     "metadata": {},
     "output_type": "execute_result"
    }
   ],
   "source": [
    "modified_gene_seq.assemble()"
   ]
  },
  {
   "cell_type": "code",
   "execution_count": null,
   "metadata": {},
   "outputs": [],
   "source": [
    "collection = sbol.Collection(\"gene_cassette_singleton_collection\")\n"
   ]
  }
 ],
 "metadata": {
  "kernelspec": {
   "display_name": "Python 3",
   "language": "python",
   "name": "python3"
  },
  "language_info": {
   "codemirror_mode": {
    "name": "ipython",
    "version": 3
   },
   "file_extension": ".py",
   "mimetype": "text/x-python",
   "name": "python",
   "nbconvert_exporter": "python",
   "pygments_lexer": "ipython3",
   "version": "3.6.5"
  }
 },
 "nbformat": 4,
 "nbformat_minor": 2
}
