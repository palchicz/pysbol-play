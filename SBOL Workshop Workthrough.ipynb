{
 "cells": [
  {
   "cell_type": "markdown",
   "metadata": {},
   "source": [
    "# Prework\n",
    "1. Create an account on SynBioHub\n",
    "2. Download the data file they will need to attach\n",
    "3. Download the SBOL document with the second part"
   ]
  },
  {
   "cell_type": "markdown",
   "metadata": {},
   "source": [
    "# Installation\n",
    "## Python\n",
    "`pip install pysbol`"
   ]
  },
  {
   "cell_type": "markdown",
   "metadata": {},
   "source": [
    "# Get Device from Synbiohub\n",
    "In this section, we are going to download a device from SynBioHub. This device will contain a number of components, sequences, and other objects as well."
   ]
  },
  {
   "cell_type": "code",
   "execution_count": null,
   "metadata": {},
   "outputs": [],
   "source": [
    "import sbol\n",
    "\n",
    "# Start an interface to the part shop\n",
    "part_shop = sbol.PartShop(\"https://synbiohub.org\")\n"
   ]
  },
  {
   "cell_type": "code",
   "execution_count": null,
   "metadata": {},
   "outputs": [],
   "source": [
    "# Search for records from the interlab study\n",
    "records = part_shop.search(\"interlab\")\n",
    "for record in records:\n",
    "    print(\"{}: {}\".format(record.displayId, record))"
   ]
  },
  {
   "cell_type": "code",
   "execution_count": null,
   "metadata": {},
   "outputs": [],
   "source": [
    "# Read the strong device into a new document\n",
    "doc = sbol.Document()\n",
    "strong_comp_uri = records[3].identity\n",
    "part_shop.pull(strong_comp_uri, doc)\n"
   ]
  },
  {
   "cell_type": "code",
   "execution_count": null,
   "metadata": {},
   "outputs": [],
   "source": [
    "# Explore the strong device document\n",
    "for obj in doc:\n",
    "    print(\"{}: {}\".format(sbol.parseClassName(obj.type), obj))"
   ]
  },
  {
   "cell_type": "markdown",
   "metadata": {},
   "source": [
    "# Extracting a ComponentDefinition from a Pre-existing Device\n",
    "In this section, we will read in a new device from an SBOL compliant XML. The goal here is to extract the promoter from the device"
   ]
  },
  {
   "cell_type": "markdown",
   "metadata": {},
   "source": [
    "# Creating a New Device\n",
    "In this section, we will create a new device by swapping in the promoter from the XML into the device from the iterlab study"
   ]
  },
  {
   "cell_type": "markdown",
   "metadata": {},
   "source": [
    "# Adding Data to a Device via an Attachement\n",
    "Now that we have a new device, we will add data to it as an attachment"
   ]
  },
  {
   "cell_type": "markdown",
   "metadata": {},
   "source": [
    "# Uploading the Device back to SynBioHub\n",
    "Finally, we can create a new collection on SynBioHub with the new device and its attachement."
   ]
  }
 ],
 "metadata": {
  "kernelspec": {
   "display_name": "Python 3",
   "language": "python",
   "name": "python3"
  },
  "language_info": {
   "codemirror_mode": {
    "name": "ipython",
    "version": 3
   },
   "file_extension": ".py",
   "mimetype": "text/x-python",
   "name": "python",
   "nbconvert_exporter": "python",
   "pygments_lexer": "ipython3",
   "version": "3.6.5"
  }
 },
 "nbformat": 4,
 "nbformat_minor": 2
}
