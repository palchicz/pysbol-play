{
 "cells": [
  {
   "cell_type": "markdown",
   "metadata": {},
   "source": [
    "# Introduction\n",
    "Welcome to the SBOL developers tutorial. This tutorial will cover a few basic and advanced concepts when working with the core SBOL libraries. Primarily, we will learn how to read and write SBOL documents, create new\n",
    "devices, attach experiemental data to a device, and interact with external biological parts repositories such as SynBioHub. The high level goal is to create a new device from components drawn from different sources, attach experiement data to that device, and upload that device to a remote repository.\n",
    "\n",
    "The tutorial will proceed through the following major steps:\n",
    "1. Read in a simple device from an SBOL Compliant XML.\n",
    "2. Extract a promoter from a characterized device from the iGEM interlab study. This data is housed in a remote repoitory.\n",
    "3. Create a new device with the iGEM promoter swapped in for the original promoter.\n",
    "4. Add an attachment to the new device representing experimental data.\n",
    "5. Upload the new device, and its attachment, to SynBioHub\n"
   ]
  },
  {
   "cell_type": "markdown",
   "metadata": {},
   "source": [
    "## Prework\n",
    "1. Create an account on SynBioHub\n",
    "2. Download the data file they will need to attach\n",
    "3. Download the SBOL document with the second part"
   ]
  },
  {
   "cell_type": "markdown",
   "metadata": {},
   "source": [
    "## Python Installation\n",
    "`pip install pysbol`"
   ]
  },
  {
   "cell_type": "markdown",
   "metadata": {},
   "source": [
    "# Getting a Device from an SBOL Compliant XML\n",
    "In this section, we will read in a new device from an SBOL compliant XML and explore its contents."
   ]
  },
  {
   "cell_type": "code",
   "execution_count": null,
   "metadata": {},
   "outputs": [],
   "source": [
    "import sbol\n",
    "\n",
    "# Start a new SBOL Document to hold the device\n",
    "cassette_doc = sbol.Document()\n",
    "\n",
    "# Read in the XML and explore its contents. Notice it is composed of\n",
    "# componentDefinitions and sequences\n",
    "cassette_doc.read(\"gene_cassette.xml\")\n",
    "for obj in cassette_doc:\n",
    "    print(obj)"
   ]
  },
  {
   "cell_type": "markdown",
   "metadata": {},
   "source": [
    "# Getting a Device from Synbiohub\n",
    "In this section, we are going to download a device from SynBioHub. We want the medium strength promoter device from the iGEM interlab study. This device will contain a number of components, sequences, and other objects as well."
   ]
  },
  {
   "cell_type": "code",
   "execution_count": null,
   "metadata": {},
   "outputs": [],
   "source": [
    "\n",
    "# Start an interface to the part shop\n",
    "part_shop = sbol.PartShop(\"https://synbiohub.org\")\n"
   ]
  },
  {
   "cell_type": "code",
   "execution_count": null,
   "metadata": {},
   "outputs": [],
   "source": [
    "# Search for records from the interlab study\n",
    "records = part_shop.search(\"interlab\")\n",
    "for record in records:\n",
    "    print(\"{}: {}\".format(record.displayId, record))"
   ]
  },
  {
   "cell_type": "code",
   "execution_count": null,
   "metadata": {},
   "outputs": [],
   "source": [
    "# Read the medium device into a new document\n",
    "inter_lab_doc = sbol.Document()\n",
    "medium_comp_uri = records[0].identity\n",
    "part_shop.pull(medium_comp_uri, inter_lab_doc)\n"
   ]
  },
  {
   "cell_type": "code",
   "execution_count": null,
   "metadata": {},
   "outputs": [],
   "source": [
    "# Explore the medium device document\n",
    "for obj in inter_lab_doc:\n",
    "    print(\"{}: {}\".format(sbol.parseClassName(obj.type), obj))"
   ]
  },
  {
   "cell_type": "markdown",
   "metadata": {},
   "source": [
    "# Extracting a ComponentDefinition from a Pre-existing Device\n",
    "In this section, we will extract the medium strength promoter from the interlab study and add it to the cassette document"
   ]
  },
  {
   "cell_type": "code",
   "execution_count": null,
   "metadata": {},
   "outputs": [],
   "source": [
    "# Extract the medium strength promoter and its sequence\n",
    "medium_strength_promoter = inter_lab_doc.getComponentDefinition('http://examples.org/public/igem/BBa_J23106/1')\n",
    "medium_strength_promoter_sequence = inter_lab_doc.getSequence('http://examples.org/public/igem/BBa_J23106_sequence/1')\n",
    "\n",
    "# And add it to the cassette document\n",
    "cassette_doc.addComponentDefinition(medium_strength_promoter)\n",
    "cassette_doc.addSequence(medium_strength_promoter_sequence)\n",
    "\n",
    "# Show that the promoter is now in the cassette document\n",
    "for obj in cassette_doc:\n",
    "    print(\"{}: {}\".format(sbol.parseClassName(obj.type), obj))"
   ]
  },
  {
   "cell_type": "markdown",
   "metadata": {},
   "source": [
    "# Creating a New Device\n",
    "In this section, we will create a new device by swapping in the promoter from the device in interlab study into the device from the XML. We will start by grabbing the necessary parts from cassette document, and then assembling them together into a new device."
   ]
  },
  {
   "cell_type": "code",
   "execution_count": null,
   "metadata": {},
   "outputs": [],
   "source": [
    "# Get the dnaComponents from the cassette doc. Notice that we need to\n",
    "# use the promoter from the cassette document, not the original interlab\n",
    "# document\n",
    "medium_strength_promoter = cassette_doc.getComponentDefinition('http://examples.org/public/igem/BBa_J23106/1')\n",
    "\n",
    "cds = cassette_doc.getComponentDefinition('http://www.examples.org/ComponentDefinition/mfg_cds/1.0.0')\n",
    "rbs = cassette_doc.getComponentDefinition('http://www.examples.org/ComponentDefinition/weak_rbs/1.0.0')\n",
    "terminator = cassette_doc.getComponentDefinition('http://www.examples.org/ComponentDefinition/medium_terminator/1.0.0')"
   ]
  },
  {
   "cell_type": "code",
   "execution_count": null,
   "metadata": {},
   "outputs": [],
   "source": [
    "# Create a new gene representing the new device\n",
    "# and add it to the cassette document\n",
    "modified_gene = sbol.ComponentDefinition(\"modified_mfg\")\n",
    "modified_gene.roles = sbol.SO_GENE\n",
    "cassette_doc.addComponentDefinition(modified_gene)\n"
   ]
  },
  {
   "cell_type": "code",
   "execution_count": null,
   "metadata": {},
   "outputs": [],
   "source": [
    "# Assemble a new gene\n",
    "modified_gene.assemblePrimaryStructure([ medium_strength_promoter, rbs, cds, terminator ])\n",
    "\n",
    "# Note, you need to also add a sequence to the gene. \n",
    "modified_gene_seq = sbol.Sequence(\"modified_mfg\")\n",
    "cassette_doc.addSequence(modified_gene_seq)\n",
    "modified_gene.sequence = modified_gene_seq\n"
   ]
  },
  {
   "cell_type": "code",
   "execution_count": null,
   "metadata": {},
   "outputs": [],
   "source": [
    "# Explore the newly assembled gene\n",
    "for comp in modified_gene.components:\n",
    "    print(comp.displayId)"
   ]
  },
  {
   "cell_type": "code",
   "execution_count": null,
   "metadata": {},
   "outputs": [],
   "source": [
    "# This causes a seg fault. In fact, any call to `modified_gene.sequence`\n",
    "# causes a seg fault. This is an issue because we cannot add the device\n",
    "# to synbiohub without the gene having an attached sequence.\n",
    "\n",
    "\n",
    "# modified_gene.assemble()"
   ]
  },
  {
   "cell_type": "markdown",
   "metadata": {},
   "source": [
    "# Adding Data to a Device via an Attachement\n",
    "Now that we have a new device, we will add data to it as an attachment"
   ]
  },
  {
   "cell_type": "code",
   "execution_count": null,
   "metadata": {},
   "outputs": [],
   "source": [
    "# TODO I couldn't figure out how to do this :-\\"
   ]
  },
  {
   "cell_type": "markdown",
   "metadata": {},
   "source": [
    "# Uploading the Device back to SynBioHub\n",
    "Finally, we can create a new collection on SynBioHub with the new device and its attachement."
   ]
  },
  {
   "cell_type": "code",
   "execution_count": null,
   "metadata": {},
   "outputs": [],
   "source": [
    "import getpass\n",
    "user_name = \"<ENTER USERNAME HERE>\"\n",
    "password = getpass.getpass()"
   ]
  },
  {
   "cell_type": "code",
   "execution_count": null,
   "metadata": {},
   "outputs": [],
   "source": [
    "part_shop.login(user_name, password)"
   ]
  },
  {
   "cell_type": "code",
   "execution_count": null,
   "metadata": {},
   "outputs": [],
   "source": [
    "cassette_doc.displayId = 'cassette_collection_1'\n",
    "cassette_doc.name = 'cassette collection 1'\n",
    "cassette_doc.version = '1'\n",
    "cassette_doc.description = 'a description of the cassette collection'"
   ]
  },
  {
   "cell_type": "code",
   "execution_count": null,
   "metadata": {},
   "outputs": [],
   "source": [
    "part_shop.submit(cassette_doc)"
   ]
  }
 ],
 "metadata": {
  "kernelspec": {
   "display_name": "Python 3",
   "language": "python",
   "name": "python3"
  },
  "language_info": {
   "codemirror_mode": {
    "name": "ipython",
    "version": 3
   },
   "file_extension": ".py",
   "mimetype": "text/x-python",
   "name": "python",
   "nbconvert_exporter": "python",
   "pygments_lexer": "ipython3",
   "version": "3.6.5"
  }
 },
 "nbformat": 4,
 "nbformat_minor": 2
}
