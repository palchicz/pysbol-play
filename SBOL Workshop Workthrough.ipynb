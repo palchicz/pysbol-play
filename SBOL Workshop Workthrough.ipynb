{
 "cells": [
  {
   "cell_type": "markdown",
   "metadata": {},
   "source": [
    "# Introduction\n",
    "Welcome to the SBOL developers tutorial. This tutorial will cover a few basic and advanced concepts when working with the core SBOL libraries. Primarily, we will learn how to read and write SBOL documents, create new\n",
    "devices, attach experiemental data to a device, and interact with external biological parts repositories such as SynBioHub. The high level goal is to create a new device from components drawn from different sources, attach experiement data to that device, and upload that device to a remote repository.\n"
   ]
  },
  {
   "cell_type": "markdown",
   "metadata": {},
   "source": [
    "## Prework\n",
    "1. Create an account on SynBioHub\n",
    "2. Download the data file they will need to attach\n",
    "3. Download the SBOL document with the second part\n"
   ]
  },
  {
   "cell_type": "markdown",
   "metadata": {},
   "source": [
    "## Python Installation\n",
    "`pip install pysbol`"
   ]
  },
  {
   "cell_type": "markdown",
   "metadata": {},
   "source": [
    "\n",
    "# Getting a Device from an SBOL Compliant XML\n",
    "In this section, we will read in a new device from an SBOL compliant XML and explore its contents.\n"
   ]
  },
  {
   "cell_type": "code",
   "execution_count": 1,
   "metadata": {},
   "outputs": [
    {
     "name": "stdout",
     "output_type": "stream",
     "text": [
      "http://my_namespace.org/ComponentDefinition/my_device/1\n",
      "23\n",
      "Attachment....................0\n",
      "Collection....................3\n",
      "CombinatorialDerivation.......0\n",
      "ComponentDefinition...........10\n",
      "Implementation................0\n",
      "Model.........................0\n",
      "ModuleDefinition..............0\n",
      "Sequence......................10\n",
      "Analysis......................0\n",
      "Build.........................0\n",
      "Design........................0\n",
      "SampleRoster..................0\n",
      "Test..........................0\n",
      "Activity......................0\n",
      "Agent.........................0\n",
      "Plan..........................0\n",
      "Annotation Objects............0\n",
      "---\n",
      "Total.........................23\n",
      "\n"
     ]
    }
   ],
   "source": [
    "\n",
    "from sbol import *\n",
    "\n",
    "# Set your Homespace. All new SBOL objects will be created in this namespace\n",
    "my_namespace = 'http://my_namespace.org'  # Ex: http://my_namespace.org\n",
    "setHomespace(my_namespace)\n",
    "\n",
    "# Start a new SBOL Document to hold the device\n",
    "doc = Document()\n",
    "my_device = doc.componentDefinitions.create('my_device')\n",
    "print(my_device)\n",
    "\n",
    "# Load some genetic parts taken from the Cello paper\n",
    "cello_parts = Document('cello_parts.xml')\n",
    "\n",
    "# Inspect the Document's contents\n",
    "print(len(cello_parts))\n",
    "print(cello_parts)\n"
   ]
  },
  {
   "cell_type": "code",
   "execution_count": 2,
   "metadata": {},
   "outputs": [
    {
     "name": "stdout",
     "output_type": "stream",
     "text": [
      "http://examples.org/Sequence/pPhlF_sequence/1\n",
      "http://examples.org/Sequence/YFP_protein_sequence/1\n",
      "http://examples.org/Sequence/PhlF_sequence/1\n",
      "http://examples.org/Sequence/L3S3P11_sequence/1\n",
      "http://examples.org/Sequence/L3S2P55_sequence/1\n",
      "http://examples.org/Sequence/LuxR_sequence/1\n",
      "http://examples.org/Sequence/AmeR_sequence/1\n",
      "http://examples.org/ComponentDefinition/pLuxStar/1\n",
      "http://examples.org/ComponentDefinition/pAmeR/1\n",
      "http://examples.org/ComponentDefinition/PhlF/1\n",
      "http://examples.org/ComponentDefinition/YFP/1\n",
      "http://examples.org/ComponentDefinition/LuxR/1\n",
      "http://examples.org/ComponentDefinition/L3S3P11/1\n",
      "http://examples.org/ComponentDefinition/pPhlF/1\n",
      "http://examples.org/ComponentDefinition/L3S2P55/1\n",
      "http://examples.org/ComponentDefinition/ECK120010818/1\n",
      "http://examples.org/ComponentDefinition/AmeR/1\n",
      "http://examples.org/Sequence/pAmeR_sequence/1\n",
      "http://examples.org/Collection/promoters/1\n",
      "http://examples.org/Sequence/ECK120010818_sequence/1\n",
      "http://examples.org/Collection/terminators/1\n",
      "http://examples.org/Sequence/pLuxStar_sequence/1\n",
      "http://examples.org/Collection/coding_sequences/1\n"
     ]
    }
   ],
   "source": [
    "\n",
    "# Read in the XML and explore its contents. Notice it is composed of\n",
    "# componentDefinitions and sequences\n",
    "for obj in cello_parts:\n",
    "    print(obj)\n"
   ]
  },
  {
   "cell_type": "code",
   "execution_count": 3,
   "metadata": {},
   "outputs": [
    {
     "data": {
      "text/plain": [
       "Document"
      ]
     },
     "execution_count": 3,
     "metadata": {},
     "output_type": "execute_result"
    }
   ],
   "source": [
    "# Import these objects into your Document\n",
    "cello_parts.copy('http://examples.org', doc)"
   ]
  },
  {
   "cell_type": "code",
   "execution_count": 4,
   "metadata": {
    "scrolled": true
   },
   "outputs": [
    {
     "name": "stdout",
     "output_type": "stream",
     "text": [
      "http://my_namespace.org/Collection/coding_sequences/1\n",
      "http://my_namespace.org/Collection/promoters/1\n",
      "http://my_namespace.org/Sequence/pLuxStar_sequence/1\n",
      "http://my_namespace.org/Sequence/ECK120010818_sequence/1\n",
      "http://my_namespace.org/ComponentDefinition/AmeR/1\n",
      "http://my_namespace.org/ComponentDefinition/ECK120010818/1\n",
      "http://my_namespace.org/Collection/terminators/1\n",
      "http://my_namespace.org/ComponentDefinition/LuxR/1\n",
      "http://my_namespace.org/ComponentDefinition/YFP/1\n",
      "http://my_namespace.org/Sequence/L3S3P11_sequence/1\n",
      "http://my_namespace.org/ComponentDefinition/pAmeR/1\n",
      "http://my_namespace.org/ComponentDefinition/L3S3P11/1\n",
      "http://my_namespace.org/Sequence/PhlF_sequence/1\n",
      "http://my_namespace.org/ComponentDefinition/PhlF/1\n",
      "http://my_namespace.org/ComponentDefinition/pPhlF/1\n",
      "http://my_namespace.org/Sequence/LuxR_sequence/1\n",
      "http://my_namespace.org/ComponentDefinition/my_device/1\n",
      "http://my_namespace.org/Sequence/L3S2P55_sequence/1\n",
      "http://my_namespace.org/Sequence/pAmeR_sequence/1\n",
      "http://my_namespace.org/Sequence/AmeR_sequence/1\n",
      "http://my_namespace.org/Sequence/YFP_protein_sequence/1\n",
      "http://my_namespace.org/ComponentDefinition/pLuxStar/1\n",
      "http://my_namespace.org/ComponentDefinition/L3S2P55/1\n",
      "http://my_namespace.org/Sequence/pPhlF_sequence/1\n",
      "http://my_namespace.org/ComponentDefinition/pAmeR/1\n",
      "http://my_namespace.org/ComponentDefinition/pLuxStar/1\n",
      "http://my_namespace.org/ComponentDefinition/pPhlF/1\n",
      "['http://www.biopax.org/release/biopax-level3.owl#DnaRegion']\n",
      "['http://identifiers.org/so/SO:0000167']\n"
     ]
    }
   ],
   "source": [
    "\n",
    "\n",
    "# Notice the objects have been imported into your Homespace\n",
    "for obj in doc:\n",
    "    print(obj)\n",
    "\n",
    "# Retrieve an object from the Document using its uniform resource identifier (URI)\n",
    "promoter_collection = doc.getCollection(my_namespace + '/Collection/' + 'promoters')\n",
    "\n",
    "# A Collection contains a list of URI references to objects, not the object themselves\n",
    "for p in promoter_collection.members:\n",
    "    print(p)\n",
    "\n",
    "# Retrieve a component, using its full URI\n",
    "promoter = doc.getComponentDefinition(my_namespace + '/ComponentDefinition/pPhlF/1')\n",
    "\n",
    "\n",
    "# Retrieve the same component, using its displayId\n",
    "promoter = doc.componentDefinitions['pPhlF']\n",
    "\n",
    "# Review the BioPAX and Sequence Ontology terms that describe this component\n",
    "print(promoter.types)\n",
    "print(promoter.roles)"
   ]
  },
  {
   "cell_type": "markdown",
   "metadata": {},
   "source": [
    "# Getting a Device from Synbiohub\n",
    "In this section, we are going to download a device from SynBioHub. We want the medium strength promoter device from the iGEM interlab study. This device will contain a number of components, sequences, and other objects as well."
   ]
  },
  {
   "cell_type": "code",
   "execution_count": 5,
   "metadata": {},
   "outputs": [],
   "source": [
    "# Start an interface to the part shop\n",
    "part_shop = sbol.PartShop('https://synbiohub.org/public/igem')\n"
   ]
  },
  {
   "cell_type": "code",
   "execution_count": 6,
   "metadata": {},
   "outputs": [
    {
     "name": "stdout",
     "output_type": "stream",
     "text": [
      "Medium_2016Interlab: https://synbiohub.org/public/iGEM_2016_interlab/Medium_2016Interlab/1\n",
      "Negative_2016Interlab: https://synbiohub.org/public/iGEM_2016_interlab/Negative_2016Interlab/1\n",
      "Positive_2016Interlab: https://synbiohub.org/public/iGEM_2016_interlab/Positive_2016Interlab/1\n",
      "Strong_2016Interlab: https://synbiohub.org/public/iGEM_2016_interlab/Strong_2016Interlab/1\n",
      "Weak_2016Interlab: https://synbiohub.org/public/iGEM_2016_interlab/Weak_2016Interlab/1\n"
     ]
    }
   ],
   "source": [
    "# Search for records from the interlab study\n",
    "records = part_shop.search('interlab')\n",
    "for record in records:\n",
    "    print('{}: {}'.format(record.displayId, record))"
   ]
  },
  {
   "cell_type": "code",
   "execution_count": 7,
   "metadata": {},
   "outputs": [
    {
     "ename": "ValueError",
     "evalue": "This property is already set. Call remove before attempting to overwrite the value.",
     "output_type": "error",
     "traceback": [
      "\u001b[0;31m---------------------------------------------------------------------------\u001b[0m",
      "\u001b[0;31mValueError\u001b[0m                                Traceback (most recent call last)",
      "\u001b[0;32m<ipython-input-7-49e5c7e0602d>\u001b[0m in \u001b[0;36m<module>\u001b[0;34m()\u001b[0m\n\u001b[1;32m      1\u001b[0m \u001b[0;31m# Import the medium device into the user's Document\u001b[0m\u001b[0;34m\u001b[0m\u001b[0;34m\u001b[0m\u001b[0m\n\u001b[1;32m      2\u001b[0m \u001b[0mmedium_comp_uri\u001b[0m \u001b[0;34m=\u001b[0m \u001b[0mrecords\u001b[0m\u001b[0;34m[\u001b[0m\u001b[0;36m0\u001b[0m\u001b[0;34m]\u001b[0m\u001b[0;34m.\u001b[0m\u001b[0midentity\u001b[0m\u001b[0;34m\u001b[0m\u001b[0m\n\u001b[0;32m----> 3\u001b[0;31m \u001b[0mpart_shop\u001b[0m\u001b[0;34m.\u001b[0m\u001b[0mpull\u001b[0m\u001b[0;34m(\u001b[0m\u001b[0mmedium_comp_uri\u001b[0m\u001b[0;34m,\u001b[0m \u001b[0mdoc\u001b[0m\u001b[0;34m)\u001b[0m\u001b[0;34m\u001b[0m\u001b[0m\n\u001b[0m",
      "\u001b[0;32m~/.virtualenvs/sbol/lib/python3.6/site-packages/sbol/libsbol.py\u001b[0m in \u001b[0;36mpull\u001b[0;34m(self, *args)\u001b[0m\n\u001b[1;32m   7958\u001b[0m \u001b[0;34m\u001b[0m\u001b[0m\n\u001b[1;32m   7959\u001b[0m         \"\"\"\n\u001b[0;32m-> 7960\u001b[0;31m         \u001b[0;32mreturn\u001b[0m \u001b[0m_libsbol\u001b[0m\u001b[0;34m.\u001b[0m\u001b[0mPartShop_pull\u001b[0m\u001b[0;34m(\u001b[0m\u001b[0mself\u001b[0m\u001b[0;34m,\u001b[0m \u001b[0;34m*\u001b[0m\u001b[0margs\u001b[0m\u001b[0;34m)\u001b[0m\u001b[0;34m\u001b[0m\u001b[0m\n\u001b[0m\u001b[1;32m   7961\u001b[0m \u001b[0;34m\u001b[0m\u001b[0m\n\u001b[1;32m   7962\u001b[0m \u001b[0;34m\u001b[0m\u001b[0m\n",
      "\u001b[0;31mValueError\u001b[0m: This property is already set. Call remove before attempting to overwrite the value."
     ]
    }
   ],
   "source": [
    "# Import the medium device into the user's Document\n",
    "medium_comp_uri = records[0].identity\n",
    "part_shop.pull(medium_comp_uri, doc)"
   ]
  },
  {
   "cell_type": "code",
   "execution_count": null,
   "metadata": {},
   "outputs": [],
   "source": [
    "\n",
    "\n",
    "# Explore the new parts\n",
    "for obj in doc:\n",
    "    print('{}: {}'.format(sbol.parseClassName(obj.type), obj))"
   ]
  },
  {
   "cell_type": "code",
   "execution_count": null,
   "metadata": {},
   "outputs": [],
   "source": [
    "\n",
    "# # Extracting a ComponentDefinition from a Pre-existing Device\n",
    "# In this section, we will extract the medium strength promoter from the interlab study and add it to the cassette document\n"
   ]
  },
  {
   "cell_type": "code",
   "execution_count": null,
   "metadata": {},
   "outputs": [],
   "source": [
    "\n",
    "\n",
    "# Extract the medium strength promoter\n",
    "medium_strength_promoter = doc.componentDefinitions['BBa_J23106']"
   ]
  },
  {
   "cell_type": "code",
   "execution_count": null,
   "metadata": {},
   "outputs": [],
   "source": [
    "\n",
    "# # Creating a New Device\n",
    "# In this section, we will create a new device by swapping in the promoter from the device in interlab study into the device from the XML. We will start by grabbing the necessary parts from cassette document, and then assembling them together into a new device.\n"
   ]
  },
  {
   "cell_type": "code",
   "execution_count": null,
   "metadata": {},
   "outputs": [],
   "source": [
    "# Get parts for a new circuit\n",
    "promoter = doc.componentDefinitions[ <ENTER DISPLAYID HERE> ]\n",
    "cds = doc.componentDefinitions[ <ENTER DISPLAYID HERE> ]\n",
    "rbs = doc.componentDefinitions[ <ENTER DISPLAYID HERE> ]\n",
    "terminator = doc.componentDefinitions[ <ENTER DISPLAYID HERE> ]"
   ]
  },
  {
   "cell_type": "code",
   "execution_count": null,
   "metadata": {},
   "outputs": [],
   "source": [
    "# Assemble a new gene\n",
    "my_device.assemblePrimaryStructure([ medium_strength_promoter, rbs, cds, terminator ])"
   ]
  },
  {
   "cell_type": "code",
   "execution_count": null,
   "metadata": {},
   "outputs": [],
   "source": [
    "# Annotate the target construct with a Sequence Ontology term\n",
    "my_device.roles = sbol.SO_GENE"
   ]
  },
  {
   "cell_type": "code",
   "execution_count": null,
   "metadata": {},
   "outputs": [],
   "source": [
    "# Explore the newly assembled gene\n",
    "for comp in my_device.getPrimaryStructure():\n",
    "    print(comp.displayId)"
   ]
  },
  {
   "cell_type": "code",
   "execution_count": null,
   "metadata": {},
   "outputs": [],
   "source": [
    "\n",
    "# This causes a seg fault. In fact, any call to `modified_gene.sequence`\n",
    "# causes a seg fault. This is an issue because we cannot add the device\n",
    "# to synbiohub without the gene having an attached sequence.\n",
    "\n",
    "\n",
    "target_sequence = my_device.compile()\n",
    "print(my_device.sequence.elements)\n",
    "\n",
    "# # Managing a Design-Build-Test-Learn workflow\n",
    "# Now that we have a target construct, we will hand the design off to the laboratory \n",
    "# for construction and characterization. To represent a workflow we use Activity objects.\n",
    "# Each Activity has an Agent who executes a Plan.\n",
    "\n",
    "design = doc.designs.create('my_device')\n",
    "design.structure = my_device\n",
    "design.function = None  # This tutorial does not cover ModuleDefinitions and interactions\n",
    "\n",
    "workflow_step_1 = Activity('build_1')\n",
    "workflow_step_2 = Activity('build_2')\n",
    "workflow_step_3 = Activity('test_1')\n",
    "workflow_step_4 = Activity('analysis_1')\n",
    "\n",
    "workflow_step_1.plan = Plan('gibson_assembly')\n",
    "workflow_step_2.plan = Plan('transformation')\n",
    "workflow_step_3.plan = Plan('promoter_characterization')\n",
    "workflow_step_4.plan = Plan('parameter_optimization')\n",
    "\n",
    "setHomespace('')\n",
    "Config.setOption('sbol_compliant_uris', False)  # Temporarily disable auto-construction of URIs\n",
    "\n",
    "workflow_step_1.agent = Agent('mailto:jdoe@%s' %my_namespace)\n",
    "workflow_step_2.agent = workflow_step_1.agent\n",
    "workflow_step_3.agent = Agent('http://sys-bio.org/plate_reader_1')\n",
    "workflow_step_4.agent = Agent('http://tellurium.analogmachine.org')\n",
    "\n",
    "Config.setOption('sbol_compliant_uris', True)\n",
    "setHomespace('https://sys-bio.org')\n",
    "\n",
    "doc.addActivity([workflow_step_1, workflow_step_2, workflow_step_3, workflow_step_4])\n",
    "\n",
    "gibson_mix = workflow_step_1.generateBuild('gibson_mix', design)\n",
    "clones = workflow_step_2.generateBuild(['clone1', 'clone2', 'clone3'], design, gibson_mix)\n",
    "experiment1 = workflow_step_3.generateTest('experiment1', clones)\n",
    "analysis1 = workflow_step_4.generateAnalysis('analysis1', experiment1)\n",
    "\n",
    "# Validate the Document\n",
    "\n",
    "print(doc.validate())"
   ]
  },
  {
   "cell_type": "code",
   "execution_count": null,
   "metadata": {},
   "outputs": [],
   "source": [
    "# TODO I couldn't figure out how to do this :-\\\n",
    "\n",
    "\n",
    "# # Uploading the Device back to SynBioHub\n",
    "# Finally, we can create a new collection on SynBioHub with the new device and its workflow history."
   ]
  },
  {
   "cell_type": "code",
   "execution_count": null,
   "metadata": {},
   "outputs": [],
   "source": [
    "import getpass\n",
    "user_name = '<ENTER USERNAME HERE>'\n",
    "email = '<ENTER EMAIL HERE>'\n",
    "password = getpass.getpass()"
   ]
  },
  {
   "cell_type": "code",
   "execution_count": null,
   "metadata": {},
   "outputs": [],
   "source": [
    "part_shop.login(user_name, password)"
   ]
  },
  {
   "cell_type": "code",
   "execution_count": null,
   "metadata": {},
   "outputs": [],
   "source": [
    "# Upon submission, the Document will be converted to a Collection with the following properties\n",
    "doc.displayId = 'cassette_collection_1'\n",
    "doc.name = 'cassette collection 1'\n",
    "doc.description = 'a description of the cassette collection'\n"
   ]
  },
  {
   "cell_type": "code",
   "execution_count": null,
   "metadata": {},
   "outputs": [],
   "source": [
    "\n",
    "part_shop.submit(cassette_doc)\n",
    "\n",
    "# Attach raw experimental data here\n",
    "part_shop.attachFile('http://synbiohub.org/user/' + user_name + '/' + experiment1.displayId, <ENTER ATTACHMENT FILE PATH HERE>)\n",
    "\n",
    "# Attach processed experimental data here\n",
    "part_shop.attachFile(<ENTER THE URI OF THE ANALYSIS OBJECT HERE>, <ENTER ATTACHMENT FILE PATH HERE>)"
   ]
  }
 ],
 "metadata": {
  "kernelspec": {
   "display_name": "Python 3",
   "language": "python",
   "name": "python3"
  },
  "language_info": {
   "codemirror_mode": {
    "name": "ipython",
    "version": 3
   },
   "file_extension": ".py",
   "mimetype": "text/x-python",
   "name": "python",
   "nbconvert_exporter": "python",
   "pygments_lexer": "ipython3",
   "version": "3.6.5"
  }
 },
 "nbformat": 4,
 "nbformat_minor": 2
}
