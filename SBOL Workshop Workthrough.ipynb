{
 "cells": [
  {
   "cell_type": "markdown",
   "metadata": {},
   "source": [
    "# Installation\n",
    "\n",
    "`pip install pysbol`\n",
    "\n",
    "No issues"
   ]
  },
  {
   "cell_type": "markdown",
   "metadata": {},
   "source": [
    "# Get Device from Synbiohub\n"
   ]
  },
  {
   "cell_type": "code",
   "execution_count": 29,
   "metadata": {},
   "outputs": [],
   "source": [
    "import sbol\n",
    "\n",
    "# Start an interface to the part shop\n",
    "part_shop = sbol.PartShop(\"https://synbiohub.org\")\n"
   ]
  },
  {
   "cell_type": "code",
   "execution_count": 30,
   "metadata": {},
   "outputs": [
    {
     "name": "stdout",
     "output_type": "stream",
     "text": [
      "Medium_2016Interlab: https://synbiohub.org/public/iGEM_2016_interlab/Medium_2016Interlab/1\n",
      "Negative_2016Interlab: https://synbiohub.org/public/iGEM_2016_interlab/Negative_2016Interlab/1\n",
      "Positive_2016Interlab: https://synbiohub.org/public/iGEM_2016_interlab/Positive_2016Interlab/1\n",
      "Strong_2016Interlab: https://synbiohub.org/public/iGEM_2016_interlab/Strong_2016Interlab/1\n",
      "Weak_2016Interlab: https://synbiohub.org/public/iGEM_2016_interlab/Weak_2016Interlab/1\n"
     ]
    }
   ],
   "source": [
    "# Search for records from the interlab study\n",
    "records = part_shop.search(\"interlab\")\n",
    "for record in records:\n",
    "    print(\"{}: {}\".format(record.displayId, record))"
   ]
  },
  {
   "cell_type": "code",
   "execution_count": 32,
   "metadata": {},
   "outputs": [
    {
     "ename": "TypeError",
     "evalue": "getClassName() missing 1 required positional argument: 'type'",
     "output_type": "error",
     "traceback": [
      "\u001b[0;31m---------------------------------------------------------------------------\u001b[0m",
      "\u001b[0;31mTypeError\u001b[0m                                 Traceback (most recent call last)",
      "\u001b[0;32m<ipython-input-32-8483c40a5c6a>\u001b[0m in \u001b[0;36m<module>\u001b[0;34m()\u001b[0m\n\u001b[1;32m      1\u001b[0m \u001b[0;31m# Explore the medium component\u001b[0m\u001b[0;34m\u001b[0m\u001b[0;34m\u001b[0m\u001b[0m\n\u001b[0;32m----> 2\u001b[0;31m \u001b[0mtype\u001b[0m\u001b[0;34m(\u001b[0m\u001b[0mrecords\u001b[0m\u001b[0;34m.\u001b[0m\u001b[0mgetClassName\u001b[0m\u001b[0;34m(\u001b[0m\u001b[0;34m)\u001b[0m\u001b[0;34m)\u001b[0m\u001b[0;34m\u001b[0m\u001b[0m\n\u001b[0m",
      "\u001b[0;31mTypeError\u001b[0m: getClassName() missing 1 required positional argument: 'type'"
     ]
    }
   ],
   "source": [
    "# Explore the medium component\n",
    "type(records.getClassName())"
   ]
  },
  {
   "cell_type": "code",
   "execution_count": 5,
   "metadata": {},
   "outputs": [],
   "source": [
    "# Upload a Design from a file\n",
    "cassett_doc = sbol.Document()\n",
    "cassett_doc.read(\"gene_cassette.xml\")\n"
   ]
  },
  {
   "cell_type": "code",
   "execution_count": 6,
   "metadata": {},
   "outputs": [
    {
     "name": "stdout",
     "output_type": "stream",
     "text": [
      "http://www.examples.org/Sequence/weak_rbs/1.0.0\n",
      "http://www.examples.org/Sequence/mfg_cds/1.0.0\n",
      "http://www.examples.org/Sequence/medium_terminator/1.0.0\n",
      "http://www.examples.org/Sequence/mfg/1.0.0\n",
      "http://www.examples.org/ComponentDefinition/mfg_cds/1.0.0\n",
      "http://www.examples.org/ComponentDefinition/strong_promoter/1.0.0\n",
      "http://www.examples.org/Sequence/strong_promoter/1.0.0\n",
      "http://www.examples.org/ComponentDefinition/medium_terminator/1.0.0\n",
      "http://www.examples.org/ComponentDefinition/mfg/1.0.0\n",
      "http://www.examples.org/ComponentDefinition/weak_rbs/1.0.0\n"
     ]
    }
   ],
   "source": [
    "for obj in cassett_doc:\n",
    "    print(obj)"
   ]
  },
  {
   "cell_type": "code",
   "execution_count": 11,
   "metadata": {},
   "outputs": [],
   "source": [
    "mfg = cassett_doc.getComponentDefinition('http://www.examples.org/ComponentDefinition/mfg/1.0.0')\n",
    "final_doc = sbol.Document()\n",
    "mfg_copy = mfg.copy(final_doc)"
   ]
  },
  {
   "cell_type": "code",
   "execution_count": 34,
   "metadata": {},
   "outputs": [
    {
     "data": {
      "text/plain": [
       "'cassett_design_collection'"
      ]
     },
     "execution_count": 34,
     "metadata": {},
     "output_type": "execute_result"
    }
   ],
   "source": [
    "collection = sbol.Collection(\"cassett_design_collection\")\n",
    "collection.displayId"
   ]
  },
  {
   "cell_type": "code",
   "execution_count": null,
   "metadata": {},
   "outputs": [],
   "source": [
    "# Make a new part\n",
    "final_doc = sbol.Document()\n",
    "med_promoter = sbol.ComponentDefinition(\"medium_promoter\")\n",
    "med_promoter.roles = sbol.SO_PROMOTER\n",
    "med_promoter_seq = sbol.Sequence('medium_promoter', 'ttgagca')"
   ]
  }
 ],
 "metadata": {
  "kernelspec": {
   "display_name": "Python 3",
   "language": "python",
   "name": "python3"
  },
  "language_info": {
   "codemirror_mode": {
    "name": "ipython",
    "version": 3
   },
   "file_extension": ".py",
   "mimetype": "text/x-python",
   "name": "python",
   "nbconvert_exporter": "python",
   "pygments_lexer": "ipython3",
   "version": "3.6.5"
  }
 },
 "nbformat": 4,
 "nbformat_minor": 2
}
