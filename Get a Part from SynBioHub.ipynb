{
 "cells": [
  {
   "cell_type": "code",
   "execution_count": 1,
   "metadata": {},
   "outputs": [],
   "source": [
    "import sbol\n",
    "\n",
    "# Start an interface to the part shop\n",
    "part_shop = sbol.PartShop(\"https://synbiohub.org\")\n"
   ]
  },
  {
   "cell_type": "code",
   "execution_count": 2,
   "metadata": {},
   "outputs": [
    {
     "name": "stdout",
     "output_type": "stream",
     "text": [
      "Medium_2016Interlab: https://synbiohub.org/public/iGEM_2016_interlab/Medium_2016Interlab/1\n",
      "Negative_2016Interlab: https://synbiohub.org/public/iGEM_2016_interlab/Negative_2016Interlab/1\n",
      "Positive_2016Interlab: https://synbiohub.org/public/iGEM_2016_interlab/Positive_2016Interlab/1\n",
      "Strong_2016Interlab: https://synbiohub.org/public/iGEM_2016_interlab/Strong_2016Interlab/1\n",
      "Weak_2016Interlab: https://synbiohub.org/public/iGEM_2016_interlab/Weak_2016Interlab/1\n"
     ]
    }
   ],
   "source": [
    "# Search for records from the interlab study\n",
    "records = part_shop.search(\"interlab\")\n",
    "for record in records:\n",
    "    print(\"{}: {}\".format(record.displayId, record.identity))"
   ]
  },
  {
   "cell_type": "code",
   "execution_count": 3,
   "metadata": {},
   "outputs": [
    {
     "ename": "RuntimeError",
     "evalue": "Object https://synbiohub.org/public/iGEM_2016_interlab/Medium_2016Interlab/1 not found",
     "output_type": "error",
     "traceback": [
      "\u001b[0;31m---------------------------------------------------------------------------\u001b[0m",
      "\u001b[0;31mRuntimeError\u001b[0m                              Traceback (most recent call last)",
      "\u001b[0;32m<ipython-input-3-02008dfb14b1>\u001b[0m in \u001b[0;36m<module>\u001b[0;34m()\u001b[0m\n\u001b[1;32m      3\u001b[0m \u001b[0;34m\u001b[0m\u001b[0m\n\u001b[1;32m      4\u001b[0m \u001b[0mpart_shop\u001b[0m\u001b[0;34m.\u001b[0m\u001b[0mpull\u001b[0m\u001b[0;34m(\u001b[0m\u001b[0mmedium_comp_uri\u001b[0m\u001b[0;34m,\u001b[0m \u001b[0mdoc\u001b[0m\u001b[0;34m)\u001b[0m\u001b[0;34m\u001b[0m\u001b[0m\n\u001b[0;32m----> 5\u001b[0;31m \u001b[0mmed_component\u001b[0m \u001b[0;34m=\u001b[0m \u001b[0mdoc\u001b[0m\u001b[0;34m.\u001b[0m\u001b[0mgetComponentDefinition\u001b[0m\u001b[0;34m(\u001b[0m\u001b[0mmedium_comp_uri\u001b[0m\u001b[0;34m)\u001b[0m\u001b[0;34m\u001b[0m\u001b[0m\n\u001b[0m",
      "\u001b[0;32m~/.virtualenvs/sbol/lib/python3.6/site-packages/sbol/libsbol.py\u001b[0m in \u001b[0;36mgetComponentDefinition\u001b[0;34m(self, uri)\u001b[0m\n\u001b[1;32m   8384\u001b[0m \u001b[0;34m\u001b[0m\u001b[0m\n\u001b[1;32m   8385\u001b[0m         \"\"\"\n\u001b[0;32m-> 8386\u001b[0;31m         \u001b[0;32mreturn\u001b[0m \u001b[0m_libsbol\u001b[0m\u001b[0;34m.\u001b[0m\u001b[0mDocument_getComponentDefinition\u001b[0m\u001b[0;34m(\u001b[0m\u001b[0mself\u001b[0m\u001b[0;34m,\u001b[0m \u001b[0muri\u001b[0m\u001b[0;34m)\u001b[0m\u001b[0;34m\u001b[0m\u001b[0m\n\u001b[0m\u001b[1;32m   8387\u001b[0m \u001b[0;34m\u001b[0m\u001b[0m\n\u001b[1;32m   8388\u001b[0m \u001b[0;34m\u001b[0m\u001b[0m\n",
      "\u001b[0;31mRuntimeError\u001b[0m: Object https://synbiohub.org/public/iGEM_2016_interlab/Medium_2016Interlab/1 not found"
     ]
    }
   ],
   "source": [
    "doc = sbol.Document()\n",
    "medium_comp_uri = records[0].identity\n",
    "\n",
    "part_shop.pull(medium_comp_uri, doc)\n"
   ]
  },
  {
   "cell_type": "code",
   "execution_count": 6,
   "metadata": {},
   "outputs": [
    {
     "name": "stdout",
     "output_type": "stream",
     "text": [
      "ComponentDefinition: http://examples.org/public/iGEM_2016_interlab/Medium_2016Interlab/1\n",
      "Sequence: http://examples.org/public/igem/BBa_B0012_sequence/1\n",
      "Sequence: http://examples.org/public/igem/BBa_B0034_sequence/1\n",
      "ComponentDefinition: http://examples.org/public/igem/BBa_E0040/1\n",
      "ComponentDefinition: http://examples.org/public/igem/pSB1C3/1\n",
      "ComponentDefinition: http://examples.org/public/igem/BBa_B0010/1\n",
      "ComponentDefinition: http://examples.org/public/igem/BBa_B0012/1\n",
      "ComponentDefinition: http://examples.org/public/igem/BBa_B0015/1\n",
      "Sequence: http://examples.org/public/iGEM_2016_interlab/Medium_2016InterlabSequence/1\n",
      "ComponentDefinition: http://examples.org/public/igem/BBa_J23106/1\n",
      "ComponentDefinition: http://examples.org/public/igem/BBa_B0034/1\n",
      "Sequence: http://examples.org/public/igem/pSB1C3_sequence/1\n",
      "Activity: http://examples.org/public/iGEM_2016_interlab/Medium_2016Interlab_SBOLDesignerActivity/1\n",
      "Sequence: http://examples.org/public/igem/BBa_J23106_sequence/1\n",
      "Sequence: http://examples.org/public/igem/BBa_E0040_sequence/1\n",
      "Sequence: http://examples.org/public/igem/BBa_B0015_sequence/1\n",
      "Sequence: http://examples.org/public/igem/BBa_B0010_sequence/1\n",
      "Agent: http://examples.org/public/SBOL_Software/SBOLDesigner/3.0\n",
      "Activity: http://examples.org/public/igem/igem2sbol/1\n"
     ]
    }
   ],
   "source": [
    "for obj in doc:\n",
    "    print(\"{}: {}\".format(sbol.parseClassName(obj.type), obj))"
   ]
  },
  {
   "cell_type": "code",
   "execution_count": 8,
   "metadata": {},
   "outputs": [
    {
     "name": "stdout",
     "output_type": "stream",
     "text": [
      "http://examples.org/public/igem/BBa_J23106/1\n"
     ]
    }
   ],
   "source": [
    "promoter = doc.getComponentDefinition('http://examples.org/public/igem/BBa_J23106/1')\n",
    "print(promoter)"
   ]
  },
  {
   "cell_type": "code",
   "execution_count": null,
   "metadata": {},
   "outputs": [],
   "source": []
  }
 ],
 "metadata": {
  "kernelspec": {
   "display_name": "Python 3",
   "language": "python",
   "name": "python3"
  },
  "language_info": {
   "codemirror_mode": {
    "name": "ipython",
    "version": 3
   },
   "file_extension": ".py",
   "mimetype": "text/x-python",
   "name": "python",
   "nbconvert_exporter": "python",
   "pygments_lexer": "ipython3",
   "version": "3.6.5"
  }
 },
 "nbformat": 4,
 "nbformat_minor": 2
}
